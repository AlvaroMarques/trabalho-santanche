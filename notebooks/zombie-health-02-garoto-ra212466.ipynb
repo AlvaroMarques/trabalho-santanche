{
 "cells": [
  {
   "cell_type": "markdown",
   "metadata": {},
   "source": [
    "# Garoto Zumbi\n",
    "\n",
    "## Exercício 4\n",
    "\n",
    "Escreva uma classe que represente um Garoto Zumbi, conforme as especificações:\n",
    "\n",
    "![Garoto Especificação 1](garoto-zumbi-01.png)\n",
    "\n",
    "### Métodos\n",
    "* `mostrar` - mostra o zumbi na tela conforme o exemplo\n",
    "* `crescer` - aumenta a idade do zumbi (se não passar o máximo) e o mostra\n",
    "* `dormir` - faz o zumbi dormir e o mostra\n",
    "* `acordar` - faz o zumbi acordar e o mostra\n",
    "\n",
    "![Garoto Especificação 2](garoto-zumbi-02.png)\n",
    "![Garoto Especificação 3](garoto-zumbi-03.png)"
   ]
  },
  {
   "cell_type": "code",
   "execution_count": 28,
   "metadata": {},
   "outputs": [],
   "source": [
    "public class GarotoZumbi{\n",
    "    private int idade = 1;\n",
    "    private int sleep = 0;\n",
    "    private final String[][] a = {{\"o*o\",\" *\\no*o\",\"  *\\n o*o\\n*****\"},{\"-*-\",\" *\\n-*-\",\"  *\\n -*-\\n*****\"}};\n",
    "    private String nome;\n",
    "    GarotoZumbi(String nome){\n",
    "        this.nome = nome;\n",
    "    }\n",
    "    \n",
    "    public String getNome(){\n",
    "        return this.nome;\n",
    "    }\n",
    "    \n",
    "    public void crescer(){\n",
    "        if (++(this.idade)>3){\n",
    "            this.idade = 3;\n",
    "        }\n",
    "        mostrar();\n",
    "    }\n",
    "    public void mostrar(){\n",
    "        System.out.println(a[sleep][idade-1]);\n",
    "    }\n",
    "    \n",
    "    public void dormir(){\n",
    "        this.sleep = 1;\n",
    "        mostrar();\n",
    "    }\n",
    "    \n",
    "    public void acordar(){\n",
    "        this.sleep = 0;\n",
    "        mostrar();\n",
    "    }\n",
    "}\n"
   ]
  },
  {
   "cell_type": "markdown",
   "metadata": {},
   "source": [
    "# Exercicício 5\n",
    "\n",
    "Crie três objetos instâncias da classe Garoto Zumbi. Cada um tem um nome diferente, uma idade diferente e está em um estado diferente.\n",
    "\n",
    "Mostre os três garotos no console, depois realize sobre eles diferentes operações de crescimento e mudança de estado (acordado/dormindo)."
   ]
  },
  {
   "cell_type": "code",
   "execution_count": 31,
   "metadata": {},
   "outputs": [
    {
     "name": "stdout",
     "output_type": "stream",
     "text": [
      " *\n",
      "o*o\n",
      "-*-\n",
      " *\n",
      "o*o\n",
      " *\n",
      "-*-\n",
      "o*o\n",
      " *\n",
      "o*o\n",
      "  *\n",
      " o*o\n",
      "*****\n",
      "  *\n",
      " -*-\n",
      "*****\n",
      "  *\n",
      " -*-\n",
      "*****\n"
     ]
    }
   ],
   "source": [
    "GarotoZumbi g1 = new GarotoZumbi(\"plaq\");\n",
    "GarotoZumbi g2 = new GarotoZumbi(\"tu\");\n",
    "GarotoZumbi g3 = new GarotoZumbi(\"dum\");\n",
    "\n",
    "g1.crescer();\n",
    "g2.dormir();\n",
    "g3.crescer();\n",
    "g3.dormir();\n",
    "g2.acordar();\n",
    "g2.crescer();\n",
    "g2.crescer();\n",
    "g2.dormir();\n",
    "g2.crescer();"
   ]
  },
  {
   "cell_type": "markdown",
   "metadata": {},
   "source": [
    "# Exercício 6\n",
    "\n",
    "Você pode passar objetos como parâmetros de funções ou métodos da mesma maneira que você faz com valores. Use esse recurso para criar um método que compare dois zumbis e mostre no console o mais velho entre eles. Se tiverem a mesma idade não mostre nenhum.\n",
    "\n",
    "Crie um exemplo que demonstre a comparação.\n",
    "\n",
    "Como você não pode modificar a classe anterior, copie a classe anteior com outros nome e acrescente o método solicitado."
   ]
  },
  {
   "cell_type": "code",
   "execution_count": 37,
   "metadata": {},
   "outputs": [],
   "source": [
    "public class GarotoZumbi{\n",
    "    public int idade = 1;\n",
    "    public int sleep = 0;\n",
    "    private final String[][] a = {{\"o*o\",\" *\\no*o\",\"  *\\n o*o\\n*****\"},{\"-*-\",\" *\\n-*-\",\"  *\\n -*-\\n*****\"}};\n",
    "    private String nome;\n",
    "    GarotoZumbi(String nome){\n",
    "        this.nome = nome;\n",
    "    }\n",
    "    \n",
    "    public String getNome(){\n",
    "        return this.nome;\n",
    "    }\n",
    "    \n",
    "    public void crescer(){\n",
    "        if (++(this.idade)>3){\n",
    "            this.idade = 3;\n",
    "        }\n",
    "        mostrar();\n",
    "    }\n",
    "    public void mostrar(){\n",
    "        System.out.println(nome);\n",
    "        System.out.println(a[sleep][idade-1]);\n",
    "    }\n",
    "    \n",
    "    public void dormir(){\n",
    "        this.sleep = 1;\n",
    "        mostrar();\n",
    "    }\n",
    "    \n",
    "    public void acordar(){\n",
    "        this.sleep = 0;\n",
    "        mostrar();\n",
    "    }\n",
    "    \n",
    "    public void comparar(GarotoZumbi outro){\n",
    "        if (this.idade > outro.idade){\n",
    "            \n",
    "            mostrar();\n",
    "        }else if (this.idade < outro.idade){\n",
    "            \n",
    "            outro.mostrar();\n",
    "        }else{\n",
    "            return;\n",
    "        }\n",
    "    }\n",
    "    \n",
    "    \n",
    "}\n"
   ]
  },
  {
   "cell_type": "markdown",
   "metadata": {},
   "source": [
    "# Exercício 7\n",
    "\n",
    "Crie um método capaz de clonar zumbis, ou seja, o método recebe como parâmetro um nome e clona o zumbi (cria um objeto identico com todos os atributos) dando-lhe o novo nome.\n",
    "\n",
    "Crie um exemplo que realize demonstre a clonagem.\n",
    "\n",
    "Como você não pode modificar a classe anterior, copie a classe anteior com outros nome e acrescente o método solicitado."
   ]
  },
  {
   "cell_type": "code",
   "execution_count": 39,
   "metadata": {},
   "outputs": [],
   "source": [
    "public class GZClonador extends GarotoZumbi{\n",
    "    GZClonador(String nome){\n",
    "        super(nome);\n",
    "    }\n",
    "    \n",
    "    public GZClonador clone(String nome){\n",
    "        GZClonador cloneZumbi = new GZClonador(nome);\n",
    "        cloneZumbi.idade = idade;\n",
    "        cloneZumbi.sleep = sleep;\n",
    "        cloneZumbi.mostrar();\n",
    "        return cloneZumbi;\n",
    "    }\n",
    "    \n",
    "}"
   ]
  },
  {
   "cell_type": "code",
   "execution_count": 40,
   "metadata": {},
   "outputs": [
    {
     "name": "stdout",
     "output_type": "stream",
     "text": [
      "bro\n",
      " *\n",
      "o*o\n",
      "bro\n",
      "  *\n",
      " o*o\n",
      "*****\n",
      "bro\n",
      "  *\n",
      " -*-\n",
      "*****\n",
      "faz sol\n",
      "  *\n",
      " -*-\n",
      "*****\n"
     ]
    },
    {
     "data": {
      "text/plain": [
       "REPL.$JShell$91C$GZClonador@397d4f50"
      ]
     },
     "execution_count": 40,
     "metadata": {},
     "output_type": "execute_result"
    }
   ],
   "source": [
    "GZClonador g = new GZClonador(\"bro\");\n",
    "g.crescer();\n",
    "g.crescer();\n",
    "g.dormir();\n",
    "g.clone(\"faz sol\");"
   ]
  },
  {
   "cell_type": "code",
   "execution_count": null,
   "metadata": {},
   "outputs": [],
   "source": []
  }
 ],
 "metadata": {
  "kernelspec": {
   "display_name": "Java",
   "language": "java",
   "name": "java"
  },
  "language_info": {
   "codemirror_mode": "java",
   "file_extension": ".java",
   "mimetype": "text/x-java-source",
   "name": "Java",
   "pygments_lexer": "java",
   "version": "10.0.1+10-Debian-4"
  }
 },
 "nbformat": 4,
 "nbformat_minor": 2
}
